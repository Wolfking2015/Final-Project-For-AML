{
 "cells": [
  {
   "cell_type": "markdown",
   "metadata": {},
   "source": [
    "# Analysis of the Airlines Arrival Delay Causes"
   ]
  },
  {
   "cell_type": "markdown",
   "metadata": {},
   "source": [
    "## 1)Background of the data\n",
    "\n",
    "\n",
    "* The dataset is published on the open data souce Kaggle.\n",
    "* It is collected by the U.S. Department of Transportation's (DOT) Bureau of Transportation Statistics (BTS). They track the on-time performance of domestic flights operated by large air carriers.\n",
    "* This dataset is only for year 2008.\n",
    "* Summary information on the number of on-time, delayed, canceled and diverted flights appears in DOT's monthly air Traval Consumer Report, published about 30 days after the month's end, as well as in summary tables posted on this website.\n",
    "* BTS began collecting details on the causes of flight delays in June 2003. Summary statistics and raw data are made avaiable to the public at the time the Air Travle Consumer Report is released. \n",
    "* *The above information is from Kaggle. https://www.kaggle.com/giovamata/airlinedelaycauses*\n"
   ]
  },
  {
   "cell_type": "markdown",
   "metadata": {},
   "source": [
    "## 2) Links to the Airlines Arrival Delay Dataset\n",
    "* Data Introduction: https://www.kaggle.com/giovamata/airlinedelaycauses\n",
    "* Data Download: https://www.kaggle.com/giovamata/airlinedelaycauses/download"
   ]
  },
  {
   "cell_type": "code",
   "execution_count": 86,
   "metadata": {},
   "outputs": [],
   "source": [
    "#The direct downloadlink to the Kaggle data set\n",
    "data_url='https://www.kaggle.com/giovamata/airlinedelaycauses/download'"
   ]
  },
  {
   "cell_type": "markdown",
   "metadata": {},
   "source": [
    "## 3) Import the eccential modules "
   ]
  },
  {
   "cell_type": "markdown",
   "metadata": {},
   "source": [
    "#### Currently, I only need the _pandas_, _numpy_, _matplotlib_ ,and _seaborn_ .\n",
    "#### The _scikitlearn_ et.al. will be imported later "
   ]
  },
  {
   "cell_type": "code",
   "execution_count": 87,
   "metadata": {},
   "outputs": [],
   "source": [
    "import pandas as pd\n",
    "import numpy as np\n",
    "import matplotlib.pyplot as plt\n",
    "from matplotlib.ticker import PercentFormatter #To make the y-axis(proportion) shown in percentage\n",
    "import seaborn as sns\n",
    "from datetime import datetime\n",
    "%matplotlib inline"
   ]
  },
  {
   "cell_type": "markdown",
   "metadata": {},
   "source": [
    "## 4) Import the local dataset\n",
    "* I've downloaded the dataset in advance to save time;\n",
    "* The name of the dataset is DelayedFlights.csv"
   ]
  },
  {
   "cell_type": "code",
   "execution_count": 88,
   "metadata": {},
   "outputs": [],
   "source": [
    "data_airline=pd.read_csv('DelayedFlights.csv')"
   ]
  },
  {
   "cell_type": "markdown",
   "metadata": {},
   "source": [
    "## 4) Desplay the basic information of the dataset.\n",
    "* The dataset contains 1936758 rows and 30 columns\n",
    "* The column names are as listed.\n",
    "* The meaning of each column can be found on the website http://stat-computing.org/dataexpo/2009/the-data.html\n",
    "* Here are some need-to-note details of them:\n",
    "<br>\n",
    "  DayOfWeek: 1 (Monday) - 7 (Sunday)\n",
    "<br>\n",
    "  DepTime:  actual departure time (local, hhmm)\n",
    "<br>\n",
    "  CRSDepTime: scheduled departure time (local, hhmm)\n",
    "<br>\n",
    "  ArrTime: actual arrival time (local, hhmm)\n",
    "<br> \n",
    "  CRSArrTime: scheduled arrival time (local, hhmm)\n",
    "<br>  \n",
    "  ActualElapsedTime: in minutes\n",
    "<br>  \n",
    "  CRSElapsedTime: in minutes\n",
    "<br>  \n",
    "  AirTime: in minutes\n",
    "<br>  \n",
    "  ArrDelay: arrival delay, in minutes\n",
    "<br>    \n",
    "  DepDelay: departure delay, in minutes\n",
    "<br> \n",
    "  Distance: in miles\n",
    "<br> \n",
    "  TaxiIn: taxi in time, in minutes\n",
    "<br> \n",
    "  TaxiOut: taxi out time in minutes\n",
    "<br>\n",
    "  Cancelled: was the flight cancelled?\n",
    "<br>\n",
    "  CancellationCode: reason for cancellation (A = carrier, B = weather, C = NAS, D = security)\n",
    "<br>\n",
    "  Diverted: 1 = yes, 0 = no\n",
    "<br>\n",
    "  CarrierDelay: in minutes\n",
    "<br>\n",
    "  WeatherDelay: in minutes\n",
    "<br>\n",
    "  NASDelay: in minutes\n",
    "<br>  \n",
    "  SecurityDelay: in minutes\n",
    "<br>\n",
    "  LateAircraftDelay: in minutes"
   ]
  },
  {
   "cell_type": "code",
   "execution_count": 89,
   "metadata": {},
   "outputs": [
    {
     "name": "stdout",
     "output_type": "stream",
     "text": [
      "There are  1936758  rows and  30 columns.\n"
     ]
    },
    {
     "data": {
      "text/plain": [
       "['Unnamed: 0',\n",
       " 'Year',\n",
       " 'Month',\n",
       " 'DayofMonth',\n",
       " 'DayOfWeek',\n",
       " 'DepTime',\n",
       " 'CRSDepTime',\n",
       " 'ArrTime',\n",
       " 'CRSArrTime',\n",
       " 'UniqueCarrier',\n",
       " 'FlightNum',\n",
       " 'TailNum',\n",
       " 'ActualElapsedTime',\n",
       " 'CRSElapsedTime',\n",
       " 'AirTime',\n",
       " 'ArrDelay',\n",
       " 'DepDelay',\n",
       " 'Origin',\n",
       " 'Dest',\n",
       " 'Distance',\n",
       " 'TaxiIn',\n",
       " 'TaxiOut',\n",
       " 'Cancelled',\n",
       " 'CancellationCode',\n",
       " 'Diverted',\n",
       " 'CarrierDelay',\n",
       " 'WeatherDelay',\n",
       " 'NASDelay',\n",
       " 'SecurityDelay',\n",
       " 'LateAircraftDelay']"
      ]
     },
     "execution_count": 89,
     "metadata": {},
     "output_type": "execute_result"
    }
   ],
   "source": [
    "row_num,col_num=data_airline.shape\n",
    "print('There are ',row_num,' rows','and ',col_num,'columns.')\n",
    "list(data_airline.columns)"
   ]
  },
  {
   "cell_type": "markdown",
   "metadata": {},
   "source": [
    "### 4.1) Examples of the dataset.\n",
    "* Below are **first five rows** of the data, "
   ]
  },
  {
   "cell_type": "code",
   "execution_count": 90,
   "metadata": {},
   "outputs": [
    {
     "data": {
      "text/html": [
       "<div>\n",
       "<style scoped>\n",
       "    .dataframe tbody tr th:only-of-type {\n",
       "        vertical-align: middle;\n",
       "    }\n",
       "\n",
       "    .dataframe tbody tr th {\n",
       "        vertical-align: top;\n",
       "    }\n",
       "\n",
       "    .dataframe thead th {\n",
       "        text-align: right;\n",
       "    }\n",
       "</style>\n",
       "<table border=\"1\" class=\"dataframe\">\n",
       "  <thead>\n",
       "    <tr style=\"text-align: right;\">\n",
       "      <th></th>\n",
       "      <th>Unnamed: 0</th>\n",
       "      <th>Year</th>\n",
       "      <th>Month</th>\n",
       "      <th>DayofMonth</th>\n",
       "      <th>DayOfWeek</th>\n",
       "      <th>DepTime</th>\n",
       "      <th>CRSDepTime</th>\n",
       "      <th>ArrTime</th>\n",
       "      <th>CRSArrTime</th>\n",
       "      <th>UniqueCarrier</th>\n",
       "      <th>...</th>\n",
       "      <th>TaxiIn</th>\n",
       "      <th>TaxiOut</th>\n",
       "      <th>Cancelled</th>\n",
       "      <th>CancellationCode</th>\n",
       "      <th>Diverted</th>\n",
       "      <th>CarrierDelay</th>\n",
       "      <th>WeatherDelay</th>\n",
       "      <th>NASDelay</th>\n",
       "      <th>SecurityDelay</th>\n",
       "      <th>LateAircraftDelay</th>\n",
       "    </tr>\n",
       "  </thead>\n",
       "  <tbody>\n",
       "    <tr>\n",
       "      <th>0</th>\n",
       "      <td>0</td>\n",
       "      <td>2008</td>\n",
       "      <td>1</td>\n",
       "      <td>3</td>\n",
       "      <td>4</td>\n",
       "      <td>2003.0</td>\n",
       "      <td>1955</td>\n",
       "      <td>2211.0</td>\n",
       "      <td>2225</td>\n",
       "      <td>WN</td>\n",
       "      <td>...</td>\n",
       "      <td>4.0</td>\n",
       "      <td>8.0</td>\n",
       "      <td>0</td>\n",
       "      <td>N</td>\n",
       "      <td>0</td>\n",
       "      <td>NaN</td>\n",
       "      <td>NaN</td>\n",
       "      <td>NaN</td>\n",
       "      <td>NaN</td>\n",
       "      <td>NaN</td>\n",
       "    </tr>\n",
       "    <tr>\n",
       "      <th>1</th>\n",
       "      <td>1</td>\n",
       "      <td>2008</td>\n",
       "      <td>1</td>\n",
       "      <td>3</td>\n",
       "      <td>4</td>\n",
       "      <td>754.0</td>\n",
       "      <td>735</td>\n",
       "      <td>1002.0</td>\n",
       "      <td>1000</td>\n",
       "      <td>WN</td>\n",
       "      <td>...</td>\n",
       "      <td>5.0</td>\n",
       "      <td>10.0</td>\n",
       "      <td>0</td>\n",
       "      <td>N</td>\n",
       "      <td>0</td>\n",
       "      <td>NaN</td>\n",
       "      <td>NaN</td>\n",
       "      <td>NaN</td>\n",
       "      <td>NaN</td>\n",
       "      <td>NaN</td>\n",
       "    </tr>\n",
       "    <tr>\n",
       "      <th>2</th>\n",
       "      <td>2</td>\n",
       "      <td>2008</td>\n",
       "      <td>1</td>\n",
       "      <td>3</td>\n",
       "      <td>4</td>\n",
       "      <td>628.0</td>\n",
       "      <td>620</td>\n",
       "      <td>804.0</td>\n",
       "      <td>750</td>\n",
       "      <td>WN</td>\n",
       "      <td>...</td>\n",
       "      <td>3.0</td>\n",
       "      <td>17.0</td>\n",
       "      <td>0</td>\n",
       "      <td>N</td>\n",
       "      <td>0</td>\n",
       "      <td>NaN</td>\n",
       "      <td>NaN</td>\n",
       "      <td>NaN</td>\n",
       "      <td>NaN</td>\n",
       "      <td>NaN</td>\n",
       "    </tr>\n",
       "    <tr>\n",
       "      <th>3</th>\n",
       "      <td>4</td>\n",
       "      <td>2008</td>\n",
       "      <td>1</td>\n",
       "      <td>3</td>\n",
       "      <td>4</td>\n",
       "      <td>1829.0</td>\n",
       "      <td>1755</td>\n",
       "      <td>1959.0</td>\n",
       "      <td>1925</td>\n",
       "      <td>WN</td>\n",
       "      <td>...</td>\n",
       "      <td>3.0</td>\n",
       "      <td>10.0</td>\n",
       "      <td>0</td>\n",
       "      <td>N</td>\n",
       "      <td>0</td>\n",
       "      <td>2.0</td>\n",
       "      <td>0.0</td>\n",
       "      <td>0.0</td>\n",
       "      <td>0.0</td>\n",
       "      <td>32.0</td>\n",
       "    </tr>\n",
       "    <tr>\n",
       "      <th>4</th>\n",
       "      <td>5</td>\n",
       "      <td>2008</td>\n",
       "      <td>1</td>\n",
       "      <td>3</td>\n",
       "      <td>4</td>\n",
       "      <td>1940.0</td>\n",
       "      <td>1915</td>\n",
       "      <td>2121.0</td>\n",
       "      <td>2110</td>\n",
       "      <td>WN</td>\n",
       "      <td>...</td>\n",
       "      <td>4.0</td>\n",
       "      <td>10.0</td>\n",
       "      <td>0</td>\n",
       "      <td>N</td>\n",
       "      <td>0</td>\n",
       "      <td>NaN</td>\n",
       "      <td>NaN</td>\n",
       "      <td>NaN</td>\n",
       "      <td>NaN</td>\n",
       "      <td>NaN</td>\n",
       "    </tr>\n",
       "  </tbody>\n",
       "</table>\n",
       "<p>5 rows × 30 columns</p>\n",
       "</div>"
      ],
      "text/plain": [
       "   Unnamed: 0  Year  Month  DayofMonth  DayOfWeek  DepTime  CRSDepTime  \\\n",
       "0           0  2008      1           3          4   2003.0        1955   \n",
       "1           1  2008      1           3          4    754.0         735   \n",
       "2           2  2008      1           3          4    628.0         620   \n",
       "3           4  2008      1           3          4   1829.0        1755   \n",
       "4           5  2008      1           3          4   1940.0        1915   \n",
       "\n",
       "   ArrTime  CRSArrTime UniqueCarrier  ...  TaxiIn TaxiOut  Cancelled  \\\n",
       "0   2211.0        2225            WN  ...     4.0     8.0          0   \n",
       "1   1002.0        1000            WN  ...     5.0    10.0          0   \n",
       "2    804.0         750            WN  ...     3.0    17.0          0   \n",
       "3   1959.0        1925            WN  ...     3.0    10.0          0   \n",
       "4   2121.0        2110            WN  ...     4.0    10.0          0   \n",
       "\n",
       "   CancellationCode  Diverted  CarrierDelay  WeatherDelay NASDelay  \\\n",
       "0                 N         0           NaN           NaN      NaN   \n",
       "1                 N         0           NaN           NaN      NaN   \n",
       "2                 N         0           NaN           NaN      NaN   \n",
       "3                 N         0           2.0           0.0      0.0   \n",
       "4                 N         0           NaN           NaN      NaN   \n",
       "\n",
       "  SecurityDelay  LateAircraftDelay  \n",
       "0           NaN                NaN  \n",
       "1           NaN                NaN  \n",
       "2           NaN                NaN  \n",
       "3           0.0               32.0  \n",
       "4           NaN                NaN  \n",
       "\n",
       "[5 rows x 30 columns]"
      ]
     },
     "execution_count": 90,
     "metadata": {},
     "output_type": "execute_result"
    }
   ],
   "source": [
    "data_airline.head()"
   ]
  },
  {
   "cell_type": "markdown",
   "metadata": {},
   "source": [
    "### 4.2) Data type information for each columns.\n",
    "* Below are the **information summary** about the data type"
   ]
  },
  {
   "cell_type": "code",
   "execution_count": 91,
   "metadata": {},
   "outputs": [
    {
     "name": "stdout",
     "output_type": "stream",
     "text": [
      "<class 'pandas.core.frame.DataFrame'>\n",
      "RangeIndex: 1936758 entries, 0 to 1936757\n",
      "Data columns (total 30 columns):\n",
      "Unnamed: 0           int64\n",
      "Year                 int64\n",
      "Month                int64\n",
      "DayofMonth           int64\n",
      "DayOfWeek            int64\n",
      "DepTime              float64\n",
      "CRSDepTime           int64\n",
      "ArrTime              float64\n",
      "CRSArrTime           int64\n",
      "UniqueCarrier        object\n",
      "FlightNum            int64\n",
      "TailNum              object\n",
      "ActualElapsedTime    float64\n",
      "CRSElapsedTime       float64\n",
      "AirTime              float64\n",
      "ArrDelay             float64\n",
      "DepDelay             float64\n",
      "Origin               object\n",
      "Dest                 object\n",
      "Distance             int64\n",
      "TaxiIn               float64\n",
      "TaxiOut              float64\n",
      "Cancelled            int64\n",
      "CancellationCode     object\n",
      "Diverted             int64\n",
      "CarrierDelay         float64\n",
      "WeatherDelay         float64\n",
      "NASDelay             float64\n",
      "SecurityDelay        float64\n",
      "LateAircraftDelay    float64\n",
      "dtypes: float64(14), int64(11), object(5)\n",
      "memory usage: 443.3+ MB\n"
     ]
    }
   ],
   "source": [
    "data_airline.info()"
   ]
  },
  {
   "cell_type": "markdown",
   "metadata": {},
   "source": [
    "### 4.3) Basic statistical summary for each columns.\n",
    "* The below form is made from the _describe_ method of the dataframe _data_airline_ \n",
    "* It tells us that the dataset only contains the flight information of **year 2008**.  "
   ]
  },
  {
   "cell_type": "code",
   "execution_count": 92,
   "metadata": {},
   "outputs": [
    {
     "name": "stdout",
     "output_type": "stream",
     "text": [
      "633\n"
     ]
    }
   ],
   "source": [
    "data_airline.describe()\n",
    "print(np.sum(data_airline.Cancelled))"
   ]
  },
  {
   "cell_type": "markdown",
   "metadata": {},
   "source": [
    "## 5) Handle the missing observations for each column of the dataset\n",
    "* First, check the proportion of the missing values for each column. The column names are listed by descending order of the proportion of the missing obeservations.\n"
   ]
  },
  {
   "cell_type": "code",
   "execution_count": 94,
   "metadata": {},
   "outputs": [
    {
     "data": {
      "text/html": [
       "<div>\n",
       "<style scoped>\n",
       "    .dataframe tbody tr th:only-of-type {\n",
       "        vertical-align: middle;\n",
       "    }\n",
       "\n",
       "    .dataframe tbody tr th {\n",
       "        vertical-align: top;\n",
       "    }\n",
       "\n",
       "    .dataframe thead th {\n",
       "        text-align: right;\n",
       "    }\n",
       "</style>\n",
       "<table border=\"1\" class=\"dataframe\">\n",
       "  <thead>\n",
       "    <tr style=\"text-align: right;\">\n",
       "      <th></th>\n",
       "      <th>Proportion of missing value</th>\n",
       "    </tr>\n",
       "  </thead>\n",
       "  <tbody>\n",
       "    <tr>\n",
       "      <th>LateAircraftDelay</th>\n",
       "      <td>0.355889</td>\n",
       "    </tr>\n",
       "    <tr>\n",
       "      <th>SecurityDelay</th>\n",
       "      <td>0.355889</td>\n",
       "    </tr>\n",
       "    <tr>\n",
       "      <th>NASDelay</th>\n",
       "      <td>0.355889</td>\n",
       "    </tr>\n",
       "    <tr>\n",
       "      <th>WeatherDelay</th>\n",
       "      <td>0.355889</td>\n",
       "    </tr>\n",
       "    <tr>\n",
       "      <th>CarrierDelay</th>\n",
       "      <td>0.355889</td>\n",
       "    </tr>\n",
       "    <tr>\n",
       "      <th>ActualElapsedTime</th>\n",
       "      <td>0.004330</td>\n",
       "    </tr>\n",
       "    <tr>\n",
       "      <th>AirTime</th>\n",
       "      <td>0.004330</td>\n",
       "    </tr>\n",
       "    <tr>\n",
       "      <th>ArrDelay</th>\n",
       "      <td>0.004330</td>\n",
       "    </tr>\n",
       "    <tr>\n",
       "      <th>ArrTime</th>\n",
       "      <td>0.003671</td>\n",
       "    </tr>\n",
       "    <tr>\n",
       "      <th>TaxiIn</th>\n",
       "      <td>0.003671</td>\n",
       "    </tr>\n",
       "    <tr>\n",
       "      <th>TaxiOut</th>\n",
       "      <td>0.000235</td>\n",
       "    </tr>\n",
       "    <tr>\n",
       "      <th>CRSElapsedTime</th>\n",
       "      <td>0.000102</td>\n",
       "    </tr>\n",
       "    <tr>\n",
       "      <th>TailNum</th>\n",
       "      <td>0.000003</td>\n",
       "    </tr>\n",
       "    <tr>\n",
       "      <th>CRSArrTime</th>\n",
       "      <td>0.000000</td>\n",
       "    </tr>\n",
       "    <tr>\n",
       "      <th>Month</th>\n",
       "      <td>0.000000</td>\n",
       "    </tr>\n",
       "    <tr>\n",
       "      <th>DayofMonth</th>\n",
       "      <td>0.000000</td>\n",
       "    </tr>\n",
       "    <tr>\n",
       "      <th>DayOfWeek</th>\n",
       "      <td>0.000000</td>\n",
       "    </tr>\n",
       "    <tr>\n",
       "      <th>DepTime</th>\n",
       "      <td>0.000000</td>\n",
       "    </tr>\n",
       "    <tr>\n",
       "      <th>Diverted</th>\n",
       "      <td>0.000000</td>\n",
       "    </tr>\n",
       "    <tr>\n",
       "      <th>CancellationCode</th>\n",
       "      <td>0.000000</td>\n",
       "    </tr>\n",
       "    <tr>\n",
       "      <th>Cancelled</th>\n",
       "      <td>0.000000</td>\n",
       "    </tr>\n",
       "    <tr>\n",
       "      <th>Distance</th>\n",
       "      <td>0.000000</td>\n",
       "    </tr>\n",
       "    <tr>\n",
       "      <th>UniqueCarrier</th>\n",
       "      <td>0.000000</td>\n",
       "    </tr>\n",
       "    <tr>\n",
       "      <th>Dest</th>\n",
       "      <td>0.000000</td>\n",
       "    </tr>\n",
       "    <tr>\n",
       "      <th>Origin</th>\n",
       "      <td>0.000000</td>\n",
       "    </tr>\n",
       "    <tr>\n",
       "      <th>DepDelay</th>\n",
       "      <td>0.000000</td>\n",
       "    </tr>\n",
       "    <tr>\n",
       "      <th>Year</th>\n",
       "      <td>0.000000</td>\n",
       "    </tr>\n",
       "    <tr>\n",
       "      <th>CRSDepTime</th>\n",
       "      <td>0.000000</td>\n",
       "    </tr>\n",
       "    <tr>\n",
       "      <th>FlightNum</th>\n",
       "      <td>0.000000</td>\n",
       "    </tr>\n",
       "    <tr>\n",
       "      <th>Unnamed: 0</th>\n",
       "      <td>0.000000</td>\n",
       "    </tr>\n",
       "  </tbody>\n",
       "</table>\n",
       "</div>"
      ],
      "text/plain": [
       "                   Proportion of missing value\n",
       "LateAircraftDelay                     0.355889\n",
       "SecurityDelay                         0.355889\n",
       "NASDelay                              0.355889\n",
       "WeatherDelay                          0.355889\n",
       "CarrierDelay                          0.355889\n",
       "ActualElapsedTime                     0.004330\n",
       "AirTime                               0.004330\n",
       "ArrDelay                              0.004330\n",
       "ArrTime                               0.003671\n",
       "TaxiIn                                0.003671\n",
       "TaxiOut                               0.000235\n",
       "CRSElapsedTime                        0.000102\n",
       "TailNum                               0.000003\n",
       "CRSArrTime                            0.000000\n",
       "Month                                 0.000000\n",
       "DayofMonth                            0.000000\n",
       "DayOfWeek                             0.000000\n",
       "DepTime                               0.000000\n",
       "Diverted                              0.000000\n",
       "CancellationCode                      0.000000\n",
       "Cancelled                             0.000000\n",
       "Distance                              0.000000\n",
       "UniqueCarrier                         0.000000\n",
       "Dest                                  0.000000\n",
       "Origin                                0.000000\n",
       "DepDelay                              0.000000\n",
       "Year                                  0.000000\n",
       "CRSDepTime                            0.000000\n",
       "FlightNum                             0.000000\n",
       "Unnamed: 0                            0.000000"
      ]
     },
     "execution_count": 94,
     "metadata": {},
     "output_type": "execute_result"
    }
   ],
   "source": [
    "#Create a dataframe indicating the proportion of missing values for each column\n",
    "PropOfMissingValue=pd.DataFrame(np.sum(pd.isnull(data_airline))/row_num,columns=['Proportion of missing value'])\n",
    "# Display the columns according to descending missing value proportion order\n",
    "PropOfMissingValue.sort_values(by=['Proportion of missing value'],ascending=False)"
   ]
  },
  {
   "cell_type": "markdown",
   "metadata": {},
   "source": [
    "* The parameters named _LateAircraftDelay_ , _SecurityDelay_, _NASDelay_, _WeatherDelay_, _CarrierDelay_ contains the largest proprotion of missing values. But this is acceptable,because only the flights which were delayed or canceled contains these five parameters.\n",
    "* Some values in _ArrTime_, _DepTime_, et.al are also missing, but this may be due to the cancellation of the flights. Thus this is also acceptable. \n",
    "* But whether the flight was canceled or diverted or not is critical for the analysis, thus the rows whose _Cancelled_ or _Diverted_ contains missing values will be removed.\n",
    "* The following is to remove the rows containing missing values in specific columns."
   ]
  },
  {
   "cell_type": "code",
   "execution_count": 95,
   "metadata": {},
   "outputs": [],
   "source": [
    "InTorlerantColumn=['Cancelled' ,'Diverted']\n",
    "#Delete rows whose columns in InTorlerantColumn contain missing values\n",
    "data_airline = data_airline.dropna(axis=0, subset=InTorlerantColumn)"
   ]
  },
  {
   "cell_type": "markdown",
   "metadata": {},
   "source": [
    "* Next step: Remeasure the dataset size and the proporiton of the missing value to ensure that all the unrequried datasets are successfully removed. "
   ]
  },
  {
   "cell_type": "code",
   "execution_count": 96,
   "metadata": {},
   "outputs": [
    {
     "name": "stdout",
     "output_type": "stream",
     "text": [
      "The row number changes into  1936758 from  1936758  after removing nulls\n"
     ]
    },
    {
     "data": {
      "text/html": [
       "<div>\n",
       "<style scoped>\n",
       "    .dataframe tbody tr th:only-of-type {\n",
       "        vertical-align: middle;\n",
       "    }\n",
       "\n",
       "    .dataframe tbody tr th {\n",
       "        vertical-align: top;\n",
       "    }\n",
       "\n",
       "    .dataframe thead th {\n",
       "        text-align: right;\n",
       "    }\n",
       "</style>\n",
       "<table border=\"1\" class=\"dataframe\">\n",
       "  <thead>\n",
       "    <tr style=\"text-align: right;\">\n",
       "      <th></th>\n",
       "      <th>Proportion of missing value</th>\n",
       "    </tr>\n",
       "  </thead>\n",
       "  <tbody>\n",
       "    <tr>\n",
       "      <th>LateAircraftDelay</th>\n",
       "      <td>0.355889</td>\n",
       "    </tr>\n",
       "    <tr>\n",
       "      <th>SecurityDelay</th>\n",
       "      <td>0.355889</td>\n",
       "    </tr>\n",
       "    <tr>\n",
       "      <th>NASDelay</th>\n",
       "      <td>0.355889</td>\n",
       "    </tr>\n",
       "    <tr>\n",
       "      <th>WeatherDelay</th>\n",
       "      <td>0.355889</td>\n",
       "    </tr>\n",
       "    <tr>\n",
       "      <th>CarrierDelay</th>\n",
       "      <td>0.355889</td>\n",
       "    </tr>\n",
       "    <tr>\n",
       "      <th>ActualElapsedTime</th>\n",
       "      <td>0.004330</td>\n",
       "    </tr>\n",
       "    <tr>\n",
       "      <th>AirTime</th>\n",
       "      <td>0.004330</td>\n",
       "    </tr>\n",
       "    <tr>\n",
       "      <th>ArrDelay</th>\n",
       "      <td>0.004330</td>\n",
       "    </tr>\n",
       "    <tr>\n",
       "      <th>ArrTime</th>\n",
       "      <td>0.003671</td>\n",
       "    </tr>\n",
       "    <tr>\n",
       "      <th>TaxiIn</th>\n",
       "      <td>0.003671</td>\n",
       "    </tr>\n",
       "    <tr>\n",
       "      <th>TaxiOut</th>\n",
       "      <td>0.000235</td>\n",
       "    </tr>\n",
       "    <tr>\n",
       "      <th>CRSElapsedTime</th>\n",
       "      <td>0.000102</td>\n",
       "    </tr>\n",
       "    <tr>\n",
       "      <th>TailNum</th>\n",
       "      <td>0.000003</td>\n",
       "    </tr>\n",
       "    <tr>\n",
       "      <th>CRSArrTime</th>\n",
       "      <td>0.000000</td>\n",
       "    </tr>\n",
       "    <tr>\n",
       "      <th>Month</th>\n",
       "      <td>0.000000</td>\n",
       "    </tr>\n",
       "    <tr>\n",
       "      <th>DayofMonth</th>\n",
       "      <td>0.000000</td>\n",
       "    </tr>\n",
       "    <tr>\n",
       "      <th>DayOfWeek</th>\n",
       "      <td>0.000000</td>\n",
       "    </tr>\n",
       "    <tr>\n",
       "      <th>DepTime</th>\n",
       "      <td>0.000000</td>\n",
       "    </tr>\n",
       "    <tr>\n",
       "      <th>Diverted</th>\n",
       "      <td>0.000000</td>\n",
       "    </tr>\n",
       "    <tr>\n",
       "      <th>CancellationCode</th>\n",
       "      <td>0.000000</td>\n",
       "    </tr>\n",
       "    <tr>\n",
       "      <th>Cancelled</th>\n",
       "      <td>0.000000</td>\n",
       "    </tr>\n",
       "    <tr>\n",
       "      <th>Distance</th>\n",
       "      <td>0.000000</td>\n",
       "    </tr>\n",
       "    <tr>\n",
       "      <th>UniqueCarrier</th>\n",
       "      <td>0.000000</td>\n",
       "    </tr>\n",
       "    <tr>\n",
       "      <th>Dest</th>\n",
       "      <td>0.000000</td>\n",
       "    </tr>\n",
       "    <tr>\n",
       "      <th>Origin</th>\n",
       "      <td>0.000000</td>\n",
       "    </tr>\n",
       "    <tr>\n",
       "      <th>DepDelay</th>\n",
       "      <td>0.000000</td>\n",
       "    </tr>\n",
       "    <tr>\n",
       "      <th>Year</th>\n",
       "      <td>0.000000</td>\n",
       "    </tr>\n",
       "    <tr>\n",
       "      <th>CRSDepTime</th>\n",
       "      <td>0.000000</td>\n",
       "    </tr>\n",
       "    <tr>\n",
       "      <th>FlightNum</th>\n",
       "      <td>0.000000</td>\n",
       "    </tr>\n",
       "    <tr>\n",
       "      <th>Unnamed: 0</th>\n",
       "      <td>0.000000</td>\n",
       "    </tr>\n",
       "  </tbody>\n",
       "</table>\n",
       "</div>"
      ],
      "text/plain": [
       "                   Proportion of missing value\n",
       "LateAircraftDelay                     0.355889\n",
       "SecurityDelay                         0.355889\n",
       "NASDelay                              0.355889\n",
       "WeatherDelay                          0.355889\n",
       "CarrierDelay                          0.355889\n",
       "ActualElapsedTime                     0.004330\n",
       "AirTime                               0.004330\n",
       "ArrDelay                              0.004330\n",
       "ArrTime                               0.003671\n",
       "TaxiIn                                0.003671\n",
       "TaxiOut                               0.000235\n",
       "CRSElapsedTime                        0.000102\n",
       "TailNum                               0.000003\n",
       "CRSArrTime                            0.000000\n",
       "Month                                 0.000000\n",
       "DayofMonth                            0.000000\n",
       "DayOfWeek                             0.000000\n",
       "DepTime                               0.000000\n",
       "Diverted                              0.000000\n",
       "CancellationCode                      0.000000\n",
       "Cancelled                             0.000000\n",
       "Distance                              0.000000\n",
       "UniqueCarrier                         0.000000\n",
       "Dest                                  0.000000\n",
       "Origin                                0.000000\n",
       "DepDelay                              0.000000\n",
       "Year                                  0.000000\n",
       "CRSDepTime                            0.000000\n",
       "FlightNum                             0.000000\n",
       "Unnamed: 0                            0.000000"
      ]
     },
     "execution_count": 96,
     "metadata": {},
     "output_type": "execute_result"
    }
   ],
   "source": [
    "row_new,col_new= data_airline.shape\n",
    "print('The row number changes into ',row_new, 'from ',row_num,' after removing nulls')\n",
    "#Remeasure the proportion of missing values for each column\n",
    "PropOfMissingValue=pd.DataFrame(np.sum(pd.isnull(data_airline))/row_num,columns=['Proportion of missing value'])\n",
    "# ReDisplay the columns according to descending missing value proportion order\n",
    "PropOfMissingValue.sort_values(by=['Proportion of missing value'],ascending=False)"
   ]
  },
  {
   "cell_type": "markdown",
   "metadata": {},
   "source": [
    "## 6) Goal: Build a model to predict the flight state(On-Time/Delayed/Cancelled)\n",
    "Try to use a supervised methods to predict whether the flight has a high probability of delayed or cancelled in advance."
   ]
  },
  {
   "cell_type": "markdown",
   "metadata": {},
   "source": [
    "## 7) Basic statistics of the flight datasets\n",
    "### 7.1) Step1: Define the flight state: On-Time/ Delayed/Cancelled"
   ]
  },
  {
   "cell_type": "markdown",
   "metadata": {},
   "source": [
    "#### 7.1.1) The distribution of the raw arrival delay\n",
    "* Here I think for the travellers, the arrival time to the destination is more important than the departure time. Thus the overal flight delay is mainly based on the arrival time."
   ]
  },
  {
   "cell_type": "code",
   "execution_count": 97,
   "metadata": {},
   "outputs": [
    {
     "name": "stdout",
     "output_type": "stream",
     "text": [
      "Number of advance arrival cases is 177916 \n",
      "Number of delayed arrival cases is 1723415\n",
      "Propotion of advance arrival cases is 0.09189282716766738 \n",
      "Propotion of delayed arrival cases is 0.8901362257085673\n"
     ]
    },
    {
     "data": {
      "image/png": "[encoded data removed]",
      "text/plain": [
       "<Figure size 432x288 with 4 Axes>"
      ]
     },
     "metadata": {
      "needs_background": "light"
     },
     "output_type": "display_data"
    }
   ],
   "source": [
    "#Load the arrival delay of all the not cancelled flights \n",
    "ArrDelay_NotCancelled=data_airline[data_airline.Cancelled==0]['ArrDelay'];\n",
    "\n",
    "#First measure the proportion of flights iwth arrival delay<0 and the proportion of flights iwth arrival delay>0\n",
    "NumOfNegativeArrDelay=np.sum(ArrDelay_NotCancelled<0)\n",
    "NumOfPositiveArrDelay= np.sum(ArrDelay_NotCancelled>0)\n",
    "PropOfNegativeArrDelay=NumOfNegativeArrDelay/np.size(ArrDelay_NotCancelled)\n",
    "PropOfPositiveArrDelay=NumOfPositiveArrDelay/np.size(ArrDelay_NotCancelled)\n",
    "print('Number of advance arrival cases is', NumOfNegativeArrDelay,'\\nNumber of delayed arrival cases is',NumOfPositiveArrDelay)\n",
    "print('Propotion of advance arrival cases is', PropOfNegativeArrDelay,'\\nPropotion of delayed arrival cases is',PropOfPositiveArrDelay)\n",
    "\n",
    "# (a) Make a bar plot of the number of flights arrived in advance   \n",
    "plt.subplot(1,4,1)\n",
    "sns.set()\n",
    "plt.bar([1,2],[PropOfNegativeArrDelay,PropOfPositiveArrDelay],color=['r','g']);\n",
    "plt.xticks([1,2],['Advance','Delay'],rotation=45,fontsize=12);\n",
    "plt.yticks(fontsize=12);\n",
    "plt.xlabel('Arrival Delay(min)',fontsize=15,x=0.5,y=-0.5);\n",
    "plt.ylabel('Proportion of flights',fontsize=15,x=-10,y=0.5);\n",
    "plt.subplots_adjust(bottom=0.2) # make room for x-axis labels\n",
    "plt.title('(a) Arrival Delay Separation',fontsize=15,x=0.5,y=1.1);\n",
    "plt.gca().yaxis.set_major_formatter(PercentFormatter(1))\n",
    "plt.grid(True)\n",
    "\n",
    "# (b) Plot the distribution of those flights arrived in advance\n",
    "AdvanceTime=ArrDelay_NotCancelled[ArrDelay_NotCancelled<0];\n",
    "Advance_Min=np.min(AdvanceTime)\n",
    "Bin_Advance=np.arange(Advance_Min,5,5)\n",
    "plt.subplot(1,4,2)\n",
    "sns.set()\n",
    "plt.hist(AdvanceTime,bins=Bin_Advance,density=True, facecolor='r')\n",
    "plt.xlim([Advance_Min,0])\n",
    "plt.xticks(rotation=45,fontsize=12)\n",
    "plt.yticks(fontsize=12)\n",
    "plt.xlabel('\\n Distribution of arrival delay (in min)',fontsize=15,x=0.5,y=-0.5)\n",
    "plt.legend(['Bin Width:5'],fontsize=12)\n",
    "plt.title('(b) Advance time distribution',fontsize=15,x=0.45,y=1.1)\n",
    "plt.subplots_adjust(left=-1.8) # make room for yticks \n",
    "plt.gca().yaxis.set_major_formatter(PercentFormatter(1))\n",
    "\n",
    "# (c) Plot the distribution of those flights arrived delayed \n",
    "DelayTime=ArrDelay_NotCancelled[ArrDelay_NotCancelled>0];\n",
    "Delay_Max=np.max(DelayTime)\n",
    "Bin_Delay=np.arange(0,Delay_Max+60,60)\n",
    "plt.subplot(1,4,3)\n",
    "sns.set()\n",
    "plt.hist(DelayTime,bins=Bin_Delay,density=True,log=True,facecolor='g',edgecolor='w');\n",
    "plt.xticks(rotation=45,fontsize=12);\n",
    "plt.yticks(fontsize=12);\n",
    "plt.xlabel('\\n Distribution of arrival delay (in min)',fontsize=15,x=0.5,y=-0.5);\n",
    "plt.legend(['Bin width: 60'],fontsize=12);\n",
    "plt.title('(c) Delay time distribution',fontsize=15,x=0.45,y=1.1);\n",
    "plt.gca().yaxis.set_major_formatter(PercentFormatter(1))\n",
    "\n",
    "# (d) Plot the distribution of those flight delayed within one hour\n",
    "DelayTimeWithinOneHour=DelayTime[DelayTime<60.1]\n",
    "Bin_Delay_Short=np.arange(0,65,5)\n",
    "plt.subplot(1,4,4)\n",
    "sns.set()\n",
    "plt.hist(DelayTimeWithinOneHour,bins=Bin_Delay_Short,density=True,facecolor='g',edgecolor='w');\n",
    "plt.xticks(rotation=45,fontsize=12);\n",
    "plt.yticks(fontsize=12);\n",
    "plt.xlabel('\\n Distribution of arrival delay (in min)',fontsize=15,x=0.5,y=-0.5);\n",
    "plt.legend(['Bin width: 5'],fontsize=12);\n",
    "plt.title('(d) Delay time distribution(Delay<1h)',fontsize=15,x=0.45,y=1.1);\n",
    "plt.gca().yaxis.set_major_formatter(PercentFormatter(1))\n"
   ]
  },
  {
   "cell_type": "markdown",
   "metadata": {},
   "source": [
    "* According to the above figure\n",
    "<br>\n",
    "* **(a)** Among all the flights which were not cancelled, the proportion of advance arrival cases is small, only occupies 9% of the whole cases.\n",
    "* **(b)** The advanced time is limited, ranging from 35 minutes to 0, with most cases distributed within 15 minutes. This advance distribution around zero can be used as a reference to determin the time period considered as normal on-time.  \n",
    "* **(c)** The delayed time is widely distributed, while the most frequent cases show a delay within 60 minutes.\n",
    "* **(d)** To take a detail look at the delay time distribution within one hour, the most cases have a delay within 20minutes.\n",
    "* **It seems that flgiht arrival delay is quite normal within the rage [-20min to 20min].**\n",
    "* **But there is one problem, the arrival delay may be related to the full flight duraiton.**\n",
    "* **For example, if the total flight duration is only one hour, and the arrival delay of half an hour becomes more serious compared to the condition where the total flight duraiton is 4-5 hours.**\n",
    "* **Therefore, for the next step, I'll first check the relationship between the regular flight duration (_CRSElapsedTime_) and the arrival delay.**\n",
    "* **Then, the arrival-delay will be normalized by the CRSEElapsedTime.**"
   ]
  },
  {
   "cell_type": "markdown",
   "metadata": {},
   "source": [
    "#### 7.1.2) The distribution of the arrival delay percentage relative to the whole journey\n",
    "* As mentioned above, it's more resonable to define the arrival delay of the flight relative to the whole flight duration. It's more unacceptable for longer delays if the flight journel is too short.\n",
    "* First, take a brief look at the relationship between the CRSElapsedTime and the DelayTime for those uncancelled flights.\n",
    "* Then, normalize the Arrival Delay by the CRSElapsedTime."
   ]
  },
  {
   "cell_type": "code",
   "execution_count": 98,
   "metadata": {},
   "outputs": [
    {
     "data": {
      "image/png": "[encoded data removed]",
      "text/plain": [
       "<Figure size 432x288 with 1 Axes>"
      ]
     },
     "metadata": {},
     "output_type": "display_data"
    }
   ],
   "source": [
    "#Load the arrival delay and crselapstime into a dataframe for scatter plot\n",
    "ExamineArrDelAndCRSElapse=data_airline.loc[data_airline.Cancelled==0,['ArrDelay','CRSElapsedTime']] \n",
    "ExamineArrDelAndCRSElapse['DelayIndex']= ExamineArrDelAndCRSElapse['ArrDelay']<0\n",
    "#Scatterplot\n",
    "sns.scatterplot(x='ArrDelay', y='CRSElapsedTime', hue='DelayIndex',palette=['g', 'r'],data=ExamineArrDelAndCRSElapse);\n",
    "plt.legend(['Advance','Delay']);\n",
    "plt.xlabel('Arrival Delay(min)')\n",
    "plt.ylabel('CRSElapsed Time(min)')\n",
    "plt.title('CRSElapsedTime as a function of Arrival Delay',fontsize=15);"
   ]
  },
  {
   "cell_type": "markdown",
   "metadata": {},
   "source": [
    "* From the above figure, it's apparently that the dots distributed on the right down corner are more severious condition\n",
    "* Next,normalize the arrival delay by the CRSElapsedTime"
   ]
  },
  {
   "cell_type": "code",
   "execution_count": 102,
   "metadata": {},
   "outputs": [],
   "source": [
    "# Add a new column called the relative delay to store the relative arrival delay\n",
    "data_airline['RelativeArrDel']=data_airline['ArrDelay']/data_airline['CRSElapsedTime']\n",
    "#Replot the distribution of the Relative Arrival Delay again\n",
    "RelativeArrDel=data_airline[data_airline.Cancelled==0]['RelativeArrDel']"
   ]
  },
  {
   "cell_type": "code",
   "execution_count": 103,
   "metadata": {},
   "outputs": [
    {
     "data": {
      "image/png": "[encoded data removed]",
      "text/plain": [
       "<Figure size 432x288 with 2 Axes>"
      ]
     },
     "metadata": {},
     "output_type": "display_data"
    }
   ],
   "source": [
    "AdvanceTimeRel=RelativeArrDel[ArrDelay_NotCancelled<0];\n",
    "AdvanceRel_Min=np.min(AdvanceTimeRel)\n",
    "Bin_Advance=np.arange(AdvanceRel_Min,0.1,0.1)\n",
    "DelayTimeRel=RelativeArrDel[ArrDelay_NotCancelled>0];\n",
    "DelayRel_Max=np.max(DelayTimeRel)\n",
    "Bin_Delay=np.arange(0,DelayRel_Max,0.1)\n",
    "\n",
    "plt.subplot(1,2,1)\n",
    "sns.set()\n",
    "plt.hist(AdvanceTimeRel,bins=Bin_Advance,density=True,facecolor='r',edgecolor='w');\n",
    "plt.hist(DelayTimeRel,bins=Bin_Delay,density=True,facecolor='g',edgecolor='w');\n",
    "plt.xlim(-1,1);\n",
    "plt.gca().yaxis.set_major_formatter(PercentFormatter(1))\n",
    "plt.subplots_adjust(left=-1) # make room for yticks \n",
    "plt.xlabel('Relative Arrival Delay(/CRSE)');\n",
    "plt.ylabel('Proportion of flights(%)');\n",
    "plt.title('(a) Distrition of RevArrDelay within -1 to 1',fontsize=15);\n",
    "plt.legend(['Bin: 0.1'])\n",
    "plt.subplot(1,2,2)\n",
    "sns.set()\n",
    "Bin_DelayWider=np.arange(0,DelayRel_Max,1)\n",
    "plt.hist(DelayTimeRel,bins=Bin_DelayWider,density=True,facecolor='g',log=True,edgecolor='w');\n",
    "plt.xlim(1,DelayRel_Max);\n",
    "plt.xlabel(' Relative Arrival Delay(/CRSE)');\n",
    "plt.legend(['Bin: 1'])\n",
    "plt.gca().yaxis.set_major_formatter(PercentFormatter(1));\n",
    "plt.title('(b) Distrition of RevArrDelay above1',fontsize=15);\n",
    "\n"
   ]
  },
  {
   "cell_type": "markdown",
   "metadata": {},
   "source": [
    "* According to (a), it seems that the relative arrival delay differed from zero for around 0.15 can be considered as the normal time delay virability.\n",
    "* For those \"real delayed flights\", the relative delay can be as high as 18 times of the scheduled flight time.\n",
    "* In the following, I'll define the relative arrival delay over 0.15 to be delayed flight, and the others to be on-time flight  "
   ]
  },
  {
   "cell_type": "code",
   "execution_count": 118,
   "metadata": {},
   "outputs": [],
   "source": [
    "data_airline['FlightState']=data_airline.RelativeArrDel>0.15 #Assign value 1 to indicate Delayed flight\n",
    "data_airline['FlightState']=data_airline['FlightState'].astype(int)\n",
    "data_airline.loc[data_airline['Cancelled']==1,'FlightState']=2 #Assign value 2 to indicate Cancelled flight"
   ]
  },
  {
   "cell_type": "markdown",
   "metadata": {},
   "source": [
    "* Take a brief look at the distribution of the flight status"
   ]
  },
  {
   "cell_type": "code",
   "execution_count": 127,
   "metadata": {},
   "outputs": [
    {
     "name": "stdout",
     "output_type": "stream",
     "text": [
      "1    1138044\n",
      "0     798081\n",
      "2        633\n",
      "Name: FlightState, dtype: int64\n"
     ]
    }
   ],
   "source": [
    "Status=data_airline['FlightState'].value_counts()\n",
    "StatusProp=Status/np.sum(Status)\n",
    "print(Status)"
   ]
  },
  {
   "cell_type": "code",
   "execution_count": 122,
   "metadata": {},
   "outputs": [
    {
     "data": {
      "text/plain": [
       "([<matplotlib.patches.Wedge at 0x7f2ce75a25c0>,\n",
       "  <matplotlib.patches.Wedge at 0x7f2ce75a2a58>,\n",
       "  <matplotlib.patches.Wedge at 0x7f2ce75a2ef0>],\n",
       " [Text(-0.2989255804485505, 1.0586045046916708, ''),\n",
       "  Text(0.2978383438919597, -1.0589109126398193, ''),\n",
       "  Text(1.0999994198826373, -0.0011297158323255799, '')])"
      ]
     },
     "execution_count": 122,
     "metadata": {},
     "output_type": "execute_result"
    },
    {
     "data": {
      "image/png": "[encoded data removed]",
      "text/plain": [
       "<Figure size 432x288 with 1 Axes>"
      ]
     },
     "metadata": {},
     "output_type": "display_data"
    }
   ],
   "source": [
    "plt.subplot(1,2,1)\n",
    "plt.pie(StatusProp)"
   ]
  },
  {
   "cell_type": "markdown",
   "metadata": {},
   "source": [
    "## 8) What is your _y_-variable?\n",
    "For final project, you will need to perform a statistical model. This means you will have to accurately predict some y-variable for some combination of x-variables. From your problem statement in part 7, what is that y-variable?"
   ]
  },
  {
   "cell_type": "code",
   "execution_count": null,
   "metadata": {},
   "outputs": [],
   "source": []
  }
 ],
 "metadata": {
  "kernelspec": {
   "display_name": "Python 3",
   "language": "python",
   "name": "python3"
  },
  "language_info": {
   "codemirror_mode": {
    "name": "ipython",
    "version": 3
   },
   "file_extension": ".py",
   "mimetype": "text/x-python",
   "name": "python",
   "nbconvert_exporter": "python",
   "pygments_lexer": "ipython3",
   "version": "3.7.3"
  }
 },
 "nbformat": 4,
 "nbformat_minor": 4
}
